{
 "cells": [
  {
   "cell_type": "markdown",
   "id": "e3af01f0-eb01-4668-ba00-755922f5413a",
   "metadata": {},
   "source": [
    "## Hands-on - Basic Statistics in Python"
   ]
  },
  {
   "cell_type": "code",
   "execution_count": 1,
   "id": "a56353bd",
   "metadata": {},
   "outputs": [
    {
     "name": "stdout",
     "output_type": "stream",
     "text": [
      "Dataset Preview:\n",
      "   id    age  sex  height  weight  ap_hi  ap_lo  cholesterol  gluc  smoke  \\\n",
      "0   0  18393    2     168    62.0    110     80            1     1      0   \n",
      "1   1  20228    1     156    85.0    140     90            3     1      0   \n",
      "2   2  18857    1     165    64.0    130     70            3     1      0   \n",
      "3   3  17623    2     169    82.0    150    100            1     1      0   \n",
      "4   4  17474    1     156    56.0    100     60            1     1      0   \n",
      "\n",
      "   alco  active  cardio  \n",
      "0     0       1       0  \n",
      "1     0       1       1  \n",
      "2     0       0       1  \n",
      "3     0       1       1  \n",
      "4     0       0       0  \n"
     ]
    }
   ],
   "source": [
    "# Import necessary libraries\n",
    "import pandas as pd  # for handling tabular datasets\n",
    "import numpy as np  # for numerical computations\n",
    "from scipy import stats  # for statistical operations\n",
    "import matplotlib.pyplot as plt  # for plotting\n",
    "import seaborn as sns  # for advanced statistical plots\n",
    "\n",
    "# Load dataset from GitHub URL\n",
    "file_path = \"https://raw.githubusercontent.com/Hamed-Ahmadinia/DASP-2025/refs/heads/main/medical_examination.csv\"  # URL link to the dataset stored on GitHub\n",
    "\n",
    "# Read the dataset into a pandas dataframe\n",
    "df = pd.read_csv(file_path)  # Load the dataset as a pandas DataFrame\n",
    "\n",
    "# Display the first few rows of the dataframe to confirm the data has been loaded correctly\n",
    "print(\"Dataset Preview:\")  # Print a label for context\n",
    "print(df.head(5))  # Display the first 5 rows of the dataset"
   ]
  },
  {
   "cell_type": "markdown",
   "id": "878fcaa5-7ebc-401a-99ae-c16c1c24bb9f",
   "metadata": {},
   "source": [
    "### **Exercise 1: Display Dataset Information**\n",
    "**Question:** Use df.info() to display basic information about the dataset."
   ]
  },
  {
   "cell_type": "code",
   "execution_count": 2,
   "id": "ce2da9e1-00e5-477a-ab10-0afdc58ff97a",
   "metadata": {},
   "outputs": [
    {
     "name": "stdout",
     "output_type": "stream",
     "text": [
      "<class 'pandas.core.frame.DataFrame'>\n",
      "RangeIndex: 70000 entries, 0 to 69999\n",
      "Data columns (total 13 columns):\n",
      " #   Column       Non-Null Count  Dtype  \n",
      "---  ------       --------------  -----  \n",
      " 0   id           70000 non-null  int64  \n",
      " 1   age          70000 non-null  int64  \n",
      " 2   sex          70000 non-null  int64  \n",
      " 3   height       70000 non-null  int64  \n",
      " 4   weight       70000 non-null  float64\n",
      " 5   ap_hi        70000 non-null  int64  \n",
      " 6   ap_lo        70000 non-null  int64  \n",
      " 7   cholesterol  70000 non-null  int64  \n",
      " 8   gluc         70000 non-null  int64  \n",
      " 9   smoke        70000 non-null  int64  \n",
      " 10  alco         70000 non-null  int64  \n",
      " 11  active       70000 non-null  int64  \n",
      " 12  cardio       70000 non-null  int64  \n",
      "dtypes: float64(1), int64(12)\n",
      "memory usage: 6.9 MB\n",
      "None\n"
     ]
    }
   ],
   "source": [
    "print(df.info())"
   ]
  },
  {
   "cell_type": "markdown",
   "id": "7186c00d-4ac0-4853-8977-728f17e0ab64",
   "metadata": {},
   "source": [
    "### **Exercise 2: Calculate Minimum and Maximum Values**  \r\n",
    "**Question:** Calculate the **minimum** and **maximum** values for the following columns:  \r\n",
    "\r\n",
    "- **\"height\"**  \r\n",
    "- **\"weight\"**  \r\n",
    "- **\"ap_hi\"** (systolic blood pressure)  \r\n",
    "- **\"ap_lo\"** (diasblood pressure)re)  \r\n"
   ]
  },
  {
   "cell_type": "code",
   "execution_count": 3,
   "id": "40ffded5-78e1-43f9-b0ab-979662f0e3b1",
   "metadata": {},
   "outputs": [
    {
     "name": "stdout",
     "output_type": "stream",
     "text": [
      "Minimum weight: 10.0\n",
      "Maximum weight: 200.0\n",
      "Minimum height: 55\n",
      "Maximum height: 250\n",
      "Minimum systolic blood pressure: -150\n",
      "Maximum systolic blood pressure: 16020\n",
      "Minimum diastolic blood pressure: -70\n",
      "Maximum diastolic blood pressure: 11000\n"
     ]
    }
   ],
   "source": [
    "\n",
    "# Print min and max of weight\n",
    "print(f\"Minimum weight: {df['weight'].min()}\")\n",
    "print(f\"Maximum weight: {df['weight'].max()}\")\n",
    "\n",
    "# Print min and max of height\n",
    "print(f\"Minimum height: {df['height'].min()}\")\n",
    "print(f\"Maximum height: {df['height'].max()}\")\n",
    "\n",
    "# Print min and max of systolic blood pressure\n",
    "print(f\"Minimum systolic blood pressure: {df['ap_hi'].min()}\")\n",
    "print(f\"Maximum systolic blood pressure: {df['ap_hi'].max()}\")\n",
    "\n",
    "# Print min and max of diastolic blood pressure\n",
    "print(f\"Minimum diastolic blood pressure: {df['ap_lo'].min()}\")\n",
    "print(f\"Maximum diastolic blood pressure: {df['ap_lo'].max()}\")\n",
    "\n"
   ]
  },
  {
   "cell_type": "markdown",
   "id": "abb7e8b6-88f3-4c20-a706-1866b901f936",
   "metadata": {},
   "source": [
    "### **Exercise 3: Compute Measures of Central Tendency**  \n",
    "**Question:** Calculate the **mean**, **median**, and **mode** for the specified columns:  \n",
    "\n",
    "- **Mean:** Compute the mean of the **\"weight\"** column.  \n",
    "- **Median:** Compute the median of the **\"ap_hi\"** (systolic blood pressure) column.  \n",
    "- **Mode:** Compute the mode of the **\"gender\"** column.  "
   ]
  },
  {
   "cell_type": "code",
   "execution_count": 7,
   "id": "f2530035-c7dc-49e8-b34a-6eb82408850c",
   "metadata": {},
   "outputs": [
    {
     "name": "stdout",
     "output_type": "stream",
     "text": [
      "Arithmetic Mean of Weight: 74.21 kg\n",
      "Arithmetic Mean of Systolic Blood Pressure: 128.84\n",
      "Arithmetic Mean of Gender: 1.35\n",
      "Geometric Mean of Weight: 72.90 kg\n",
      "Geometric Mean of Systolic Blood Pressure: 125.34\n",
      "Geometric Mean of Gender: 1.27\n",
      "Harmonic Mean of Weight: 71.64 kg\n",
      "Harmonic Mean of Systolic Blood Pressure: 121.69\n",
      "Harmonic Mean of Gender: 1.21\n"
     ]
    }
   ],
   "source": [
    "#Arithemetic mean\n",
    "#weight\n",
    "mean_weight = df[\"weight\"].mean()\n",
    "print(f\"Arithmetic Mean of Weight: {mean_weight:.2f} kg\")\n",
    "#systolic blood pressure\n",
    "mean_ap_hi = (df[\"ap_hi\"][df[\"ap_hi\"] > 0]).mean()\n",
    "print(f\"Arithmetic Mean of Systolic Blood Pressure: {mean_ap_hi:.2f}\")\n",
    "#Gender\n",
    "mean_gender = df[\"sex\"].mean()\n",
    "print(f\"Arithmetic Mean of Gender: {mean_gender:.2f}\")\n",
    "\n",
    "#Geometric mean\n",
    "#weight\n",
    "mean_weight_geometric = stats.gmean(df[\"weight\"].dropna())\n",
    "print(f\"Geometric Mean of Weight: {mean_weight_geometric:.2f} kg\")\n",
    "#systolic blood pressure\n",
    "mean_ap_hi_geometric = stats.gmean(df[\"ap_hi\"][df[\"ap_hi\"] > 0])\n",
    "print(f\"Geometric Mean of Systolic Blood Pressure: {mean_ap_hi_geometric:.2f}\")\n",
    "#gender\n",
    "mean_gender_geometric =stats.gmean( df[\"sex\"])\n",
    "print(f\"Geometric Mean of Gender: {mean_gender_geometric:.2f}\")\n",
    "\n",
    "#Harmonic mean\n",
    "#weight\n",
    "mean_weight_harmonic = stats.hmean(df[\"weight\"].dropna())\n",
    "print(f\"Harmonic Mean of Weight: {mean_weight_harmonic:.2f} kg\")\n",
    "#systolic blood pressure\n",
    "mean_ap_hi_harmonic = stats.hmean(df[\"ap_hi\"][df[\"ap_hi\"] > 0])\n",
    "print(f\"Harmonic Mean of Systolic Blood Pressure: {mean_ap_hi_harmonic:.2f}\")\n",
    "#gender\n",
    "mean_gender_harmonic =stats.hmean( df[\"sex\"])\n",
    "print(f\"Harmonic Mean of Gender: {mean_gender_harmonic:.2f}\")"
   ]
  },
  {
   "cell_type": "markdown",
   "id": "3542b40f-45c0-4b19-a00b-6832bb1f8933",
   "metadata": {},
   "source": [
    "### **Exercise 4: Compute Quantiles and Interquartile Range (IQR)**  \r\n",
    "**Question:** Compute the **Q1**, **Q2 (median)**, and **Q3** for the **\"cholesterol\"** column and calculate the **Interquartile Range (IQR)**. \r\n"
   ]
  },
  {
   "cell_type": "code",
   "execution_count": 12,
   "id": "e71a544c-dafa-4277-93fc-55877a245927",
   "metadata": {},
   "outputs": [
    {
     "name": "stdout",
     "output_type": "stream",
     "text": [
      "Q1 (25th percentile of cholesterol): 1.00\n",
      "Q1 (Median of cholesterol): 1.00\n",
      "Q3 (75th percentile of cholesterol): 2.00\n",
      "Interquartile Range (IQR) of cholesterol: 1.00\n"
     ]
    }
   ],
   "source": [
    "q1_cholesterol = df[\"cholesterol\"].quantile(0.25)\n",
    "q2_cholesterol = np.median(df[\"cholesterol\"])\n",
    "q3_cholesterol = df[\"cholesterol\"].quantile(0.75)\n",
    "iqr_cholesterol = q3_cholesterol - q1_cholesterol\n",
    "\n",
    "print(f\"Q1 (25th percentile of cholesterol): {q1_cholesterol:.2f}\")\n",
    "print(f\"Q1 (Median of cholesterol): {q2_cholesterol:.2f}\")\n",
    "print(f\"Q3 (75th percentile of cholesterol): {q3_cholesterol:.2f}\")\n",
    "print(f\"Interquartile Range (IQR) of cholesterol: {iqr_cholesterol:.2f}\")"
   ]
  },
  {
   "cell_type": "markdown",
   "id": "6fc3984d-5b71-4117-8ab8-f9bc81434f13",
   "metadata": {},
   "source": [
    "### **Exercise 5: Grouped Analysis by Gender**  \r\n",
    "**Question:** Calculate the **mean** of the **\"weight\"** column grouped by **\"gender\"**. \r\n"
   ]
  },
  {
   "cell_type": "code",
   "execution_count": 14,
   "id": "a45846a0-4136-4985-a2e1-f9706ee40ce6",
   "metadata": {},
   "outputs": [
    {
     "name": "stdout",
     "output_type": "stream",
     "text": [
      "Weighted Mean of Weight (by gender): 75.00 kg\n"
     ]
    }
   ],
   "source": [
    "weights = df[\"sex\"]\n",
    "weighted_mean_weight = np.average(df[\"weight\"], weights=weights)\n",
    "print(f\"Weighted Mean of Weight (by gender): {weighted_mean_weight:.2f} kg\")"
   ]
  },
  {
   "cell_type": "code",
   "execution_count": null,
   "id": "965dc9bb-30e5-4df7-a4b9-3b11593aec83",
   "metadata": {},
   "outputs": [],
   "source": []
  }
 ],
 "metadata": {
  "kernelspec": {
   "display_name": "Python 3 (ipykernel)",
   "language": "python",
   "name": "python3"
  },
  "language_info": {
   "codemirror_mode": {
    "name": "ipython",
    "version": 3
   },
   "file_extension": ".py",
   "mimetype": "text/x-python",
   "name": "python",
   "nbconvert_exporter": "python",
   "pygments_lexer": "ipython3",
   "version": "3.11.9"
  }
 },
 "nbformat": 4,
 "nbformat_minor": 5
}
